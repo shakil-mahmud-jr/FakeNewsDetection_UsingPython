{
  "cells": [
    {
      "cell_type": "markdown",
      "source": [
        "```\n",
        "Student-1\n",
        "Name:\n",
        "ID#\n",
        "```\n",
        "\n",
        "```\n",
        "Student-2\n",
        "Name:\n",
        "ID#\n",
        "```\n",
        "\n",
        "```\n",
        "Student-3\n",
        "Name:\n",
        "ID#\n",
        "```"
      ],
      "metadata": {
        "id": "8X9UiWroS006"
      }
    },
    {
      "cell_type": "markdown",
      "source": [
        "\n",
        "\n",
        "*   Mount your google drive.\n",
        "\n"
      ],
      "metadata": {
        "id": "_6BgKVmW33zY"
      }
    },
    {
      "cell_type": "code",
      "source": [
        "# mount google drive if you are using Colab\n",
        "# otherewise, leave it blank\n",
        "\n",
        "# start writing your code here\n",
        "\n",
        "from google.colab import drive\n",
        "drive.mount('/content/drive')"
      ],
      "metadata": {
        "id": "hCe14AL95HJg",
        "colab": {
          "base_uri": "https://localhost:8080/"
        },
        "outputId": "a43a5007-dd6d-4e6d-cb59-858b1a5beab4"
      },
      "execution_count": 20,
      "outputs": [
        {
          "output_type": "stream",
          "name": "stdout",
          "text": [
            "Drive already mounted at /content/drive; to attempt to forcibly remount, call drive.mount(\"/content/drive\", force_remount=True).\n"
          ]
        }
      ]
    },
    {
      "cell_type": "markdown",
      "source": [
        "\n",
        "\n",
        "*   Import all necessary libraries.\n",
        "\n"
      ],
      "metadata": {
        "id": "UPmu3D0D4ATq"
      }
    },
    {
      "cell_type": "code",
      "source": [
        "# load/import all required library\n",
        "\n",
        "import pandas as pd\n",
        "import numpy as np\n",
        "from sklearn import tree\n",
        "from sklearn.tree import DecisionTreeClassifier\n",
        "from sklearn import metrics\n",
        "import math\n",
        "import matplotlib.pyplot as plt\n",
        "from sklearn.svm import SVC\n",
        "from sklearn.metrics import classification_report\n",
        "import pandas as pd\n",
        "from sklearn.preprocessing import StandardScaler\n",
        "from sklearn.model_selection import train_test_split\n",
        "from sklearn.feature_extraction.text import TfidfVectorizer\n",
        "from sklearn.metrics import confusion_matrix, ConfusionMatrixDisplay\n",
        "from sklearn.metrics import accuracy_score\n"
      ],
      "metadata": {
        "id": "AIJ_9jfN-nHz"
      },
      "execution_count": 21,
      "outputs": []
    },
    {
      "cell_type": "markdown",
      "source": [
        "•\t**Task 1:** Read/Load the dataset file in your program. Use Pandas library to complete this task."
      ],
      "metadata": {
        "id": "GzuiaVZWTk14"
      }
    },
    {
      "cell_type": "code",
      "source": [
        "# write task-1 solution\n",
        "\n",
        "# start writing your code here\n",
        "\n",
        "np.random.seed(123)\n",
        "df = pd.read_csv('/content/drive/My Drive/Fake_Real_News_Data.csv')\n",
        "\n",
        "print(df)"
      ],
      "metadata": {
        "id": "ODTUUpfd5RmF",
        "colab": {
          "base_uri": "https://localhost:8080/"
        },
        "outputId": "0f8bb8b6-b286-4390-e443-cc12b1e8ee56"
      },
      "execution_count": 22,
      "outputs": [
        {
          "output_type": "stream",
          "name": "stdout",
          "text": [
            "      Unnamed: 0                                              title  \\\n",
            "0              0  A whirlwind day in D.C. showcases Trump’s unor...   \n",
            "1              1  In Baltimore's call for federal police probe, ...   \n",
            "2              2  Trump Proudly Declares: Most Of The People I’v...   \n",
            "3              3  Inside the Trump-Bush melodrama: Decades of te...   \n",
            "4              4      Shutdown clash to return in force by December   \n",
            "...          ...                                                ...   \n",
            "6330        6330  Obama To Limit Police Acquisition Of Some Mili...   \n",
            "6331        6331  EU using taxpayer money to give Muslim invader...   \n",
            "6332        6332  Watching These 55 ISIS Terrorists Get Blown to...   \n",
            "6333        6333  America’s Streets Will Run With Blood- Mike Adams   \n",
            "6334        6334                              The immigration swamp   \n",
            "\n",
            "                                                   text label  \n",
            "0     Donald Trump endorsed an unabashedly noninterv...  REAL  \n",
            "1     While some Justice Department investigations a...  REAL  \n",
            "2     Trump Proudly Declares: Most Of The People I’v...  FAKE  \n",
            "3     Donald Trump spent a day in January 2014 hobno...  REAL  \n",
            "4     Notable names include Ray Washburne (Commerce)...  REAL  \n",
            "...                                                 ...   ...  \n",
            "6330  Obama To Limit Police Acquisition Of Some Mili...  REAL  \n",
            "6331  BNI Store Oct 29 2016 EU using taxpayer money ...  FAKE  \n",
            "6332  Next Story → Judge Judy LOSES IT on Hood Rat: ...  FAKE  \n",
            "6333  America’s Streets Will Run With Blood- Mike Ad...  FAKE  \n",
            "6334  “This was not a subject that was on anybody’s ...  REAL  \n",
            "\n",
            "[6335 rows x 4 columns]\n"
          ]
        }
      ]
    },
    {
      "cell_type": "markdown",
      "source": [
        "•\t**Task 2:** Apply appropriate data cleaning techniques to the dataset. In this step, replace bad data using proper methods and do not delete any record except duplicate records. Use Pandas library to complete this task."
      ],
      "metadata": {
        "id": "OI1NoXXRUlL1"
      }
    },
    {
      "cell_type": "code",
      "source": [
        "# write task-2 solution\n",
        "\n",
        "# start writing your code here\n",
        "\n",
        "#Remove duplicate records\n",
        "print(\"Original dataset shape:\", df.shape)\n",
        "df = df.drop_duplicates()\n",
        "print(\"Dataset shape after removing duplicates:\", df.shape)\n",
        "\n",
        "#Check for missing values\n",
        "print(\"\\nMissing values in each column before cleaning:\")\n",
        "print(df.isnull().sum())\n",
        "\n",
        "#Replace missing values. For 'title' and 'text', replace missing values with an empty string\n",
        "df['title'] = df['title'].fillna('')\n",
        "df['text'] = df['text'].fillna('')\n",
        "\n",
        "#For 'label', replace missing values with the mode (most frequent value)\n",
        "df['label'] = df['label'].fillna(df['label'].mode()[0])\n",
        "\n",
        "#Recheck for missing values\n",
        "print(\"\\nMissing values in each column after cleaning:\")\n",
        "print(df.isnull().sum())\n",
        "\n",
        "#Display the cleaned dataset summary\n",
        "print(\"\\nCleaned dataset preview:\")\n",
        "print(df.head())"
      ],
      "metadata": {
        "id": "rOWiXMWXUml5",
        "colab": {
          "base_uri": "https://localhost:8080/"
        },
        "outputId": "52ef3d41-4220-4ae5-ccc8-5bfcd5b5acd2"
      },
      "execution_count": 30,
      "outputs": [
        {
          "output_type": "stream",
          "name": "stdout",
          "text": [
            "Original dataset shape: (6335, 4)\n",
            "Dataset shape after removing duplicates: (6335, 4)\n",
            "\n",
            "Missing values in each column before cleaning:\n",
            "Unnamed: 0    0\n",
            "title         0\n",
            "text          0\n",
            "label         0\n",
            "dtype: int64\n",
            "\n",
            "Missing values in each column after cleaning:\n",
            "Unnamed: 0    0\n",
            "title         0\n",
            "text          0\n",
            "label         0\n",
            "dtype: int64\n",
            "\n",
            "Cleaned dataset preview:\n",
            "   Unnamed: 0                                              title  \\\n",
            "0           0  A whirlwind day in D.C. showcases Trump’s unor...   \n",
            "1           1  In Baltimore's call for federal police probe, ...   \n",
            "2           2  Trump Proudly Declares: Most Of The People I’v...   \n",
            "3           3  Inside the Trump-Bush melodrama: Decades of te...   \n",
            "4           4      Shutdown clash to return in force by December   \n",
            "\n",
            "                                                text  label  \n",
            "0  Donald Trump endorsed an unabashedly noninterv...      1  \n",
            "1  While some Justice Department investigations a...      1  \n",
            "2  Trump Proudly Declares: Most Of The People I’v...      0  \n",
            "3  Donald Trump spent a day in January 2014 hobno...      1  \n",
            "4  Notable names include Ray Washburne (Commerce)...      1  \n"
          ]
        }
      ]
    },
    {
      "cell_type": "markdown",
      "source": [
        "•\t**Task 3:** Draw graphs to analyze the frequency distributions of the features. Use Matplotlib library to complete this task. Draw all the plots in a single figure so that all plots can be seen in one diagram (use subplot() function)."
      ],
      "metadata": {
        "id": "gE4vCOLCYbyo"
      }
    },
    {
      "cell_type": "code",
      "source": [
        "import matplotlib.pyplot as plt\n",
        "\n",
        "# Create subplots for two features\n",
        "fig, axes = plt.subplots(1, 2, figsize=(12, 5))\n",
        "fig.suptitle('Feature Analysis', fontsize=16)\n",
        "\n",
        "# Plot 1: Frequency of 'label'\n",
        "df['label'].value_counts().plot(kind='bar', ax=axes[0], color='skyblue', edgecolor='black')\n",
        "axes[0].set_title('Frequency of Label')\n",
        "axes[0].set_xlabel('Label')\n",
        "axes[0].set_ylabel('Count')\n",
        "\n",
        "# Plot 2: Distribution of text lengths\n",
        "df['text'].str.len().plot(kind='hist', bins=20, ax=axes[1], color='green', edgecolor='black')\n",
        "axes[1].set_title('Distribution of Text Lengths')\n",
        "axes[1].set_xlabel('Text Length')\n",
        "axes[1].set_ylabel('Frequency')\n",
        "\n",
        "# Adjust layout\n",
        "plt.tight_layout(rect=[0, 0, 1, 0.95])\n",
        "plt.show()\n",
        "\n"
      ],
      "metadata": {
        "id": "d-7CcCKOYc2c",
        "colab": {
          "base_uri": "https://localhost:8080/",
          "height": 346
        },
        "outputId": "c5dd9610-4584-49be-cabc-f7aeb20301ed"
      },
      "execution_count": 24,
      "outputs": [
        {
          "output_type": "display_data",
          "data": {
            "text/plain": [
              "<Figure size 1200x500 with 2 Axes>"
            ],
            "image/png": "[encoded data removed]"
          },
          "metadata": {}
        }
      ]
    },
    {
      "cell_type": "markdown",
      "source": [
        "•\t**Task 4:** Perform scaling to the features of the dataset. Remember that you will need to apply data conversion before performing scaling whenever necessary."
      ],
      "metadata": {
        "id": "1HpUmYugdwzX"
      }
    },
    {
      "cell_type": "code",
      "source": [
        "# write task-4 solution\n",
        "\n",
        "# start writing your code here\n",
        "\n",
        "\n",
        "# Assuming 'df' is your DataFrame\n",
        "if 'label' in df.columns:\n",
        "    df['label'] = df['label'].map({'REAL': 1, 'FAKE': 0})\n",
        "\n",
        "# Scale numeric features\n",
        "scaler = StandardScaler()\n",
        "scaled_df = pd.DataFrame(scaler.fit_transform(df.select_dtypes(include=['float64', 'int64'])),\n",
        "                         columns=df.select_dtypes(include=['float64', 'int64']).columns)\n",
        "\n",
        "# Display the scaled data preview\n",
        "print(scaled_df.head())\n"
      ],
      "metadata": {
        "id": "ZHh_mz-odxxs",
        "colab": {
          "base_uri": "https://localhost:8080/"
        },
        "outputId": "9df56ffc-f183-46ad-d90e-843782996955"
      },
      "execution_count": 25,
      "outputs": [
        {
          "output_type": "stream",
          "name": "stdout",
          "text": [
            "   Unnamed: 0     label\n",
            "0   -1.731777  0.998896\n",
            "1   -1.731231  0.998896\n",
            "2   -1.730684 -1.001106\n",
            "3   -1.730137  0.998896\n",
            "4   -1.729590  0.998896\n"
          ]
        }
      ]
    },
    {
      "cell_type": "markdown",
      "source": [
        "•\t**Task 5:** Split your data into two parts: Training dataset and Testing dataset. You must use the function train_test_split() to complete this task and use value 3241 as the value of the random_state parameter of this function."
      ],
      "metadata": {
        "id": "Mq0z8eU8jo-_"
      }
    },
    {
      "cell_type": "code",
      "source": [
        "# write task-5 solution\n",
        "\n",
        "# start writing your code here\n",
        "\n",
        "# Convert text to numerical data using TfidfVectorizer\n",
        "vectorizer = TfidfVectorizer(max_features=5000)\n",
        "X = vectorizer.fit_transform(df['title'])\n",
        "y = df['label']\n",
        "\n",
        "# Split the data into training and testing sets\n",
        "X_train, X_test, y_train, y_test = train_test_split(X, y, test_size=0.2, random_state=3241)\n",
        "\n",
        "# Display the sizes of the training and testing sets\n",
        "print(\"Training feature set size:\", X_train.shape)\n",
        "print(\"Testing feature set size:\", X_test.shape)\n",
        "print(\"Training target set size:\", y_train.shape)\n",
        "print(\"Testing target set size:\", y_test.shape)\n"
      ],
      "metadata": {
        "id": "Pqt8yduljoe_",
        "colab": {
          "base_uri": "https://localhost:8080/"
        },
        "outputId": "308d3ad7-dbe7-44e1-c2ec-062331195a9d"
      },
      "execution_count": 26,
      "outputs": [
        {
          "output_type": "stream",
          "name": "stdout",
          "text": [
            "Training feature set size: (5068, 5000)\n",
            "Testing feature set size: (1267, 5000)\n",
            "Training target set size: (5068,)\n",
            "Testing target set size: (1267,)\n"
          ]
        }
      ]
    },
    {
      "cell_type": "markdown",
      "source": [
        "•\t**Task 6:** Apply Support Vector Machine (SVM) Classifier to the dataset. Build (train) your prediction model in this step."
      ],
      "metadata": {
        "id": "Ssx_k11qnMUy"
      }
    },
    {
      "cell_type": "code",
      "source": [
        "# write task-6 solution\n",
        "\n",
        "# start writing your code here\n",
        "\n",
        "from sklearn.svm import SVC\n",
        "from sklearn.metrics import classification_report\n",
        "\n",
        "# Initialize the SVM classifier\n",
        "svm_classifier = SVC(kernel='linear', random_state=3241)\n",
        "\n",
        "# Train the SVM model\n",
        "svm_classifier.fit(X_train, y_train)\n",
        "\n",
        "# Make predictions on the test set\n",
        "y_pred = svm_classifier.predict(X_test)\n",
        "\n",
        "# Display the classification report\n",
        "print(\"Classification Report:\")\n",
        "print(classification_report(y_test, y_pred))\n",
        "\n",
        "# Display actual vs predicted labels\n",
        "comparison = pd.DataFrame({'Actual': y_test, 'Predicted': y_pred})\n",
        "print(\"\\nActual vs Predicted:\")\n",
        "print(comparison.head())\n"
      ],
      "metadata": {
        "id": "j_nxcGb_nRlV",
        "colab": {
          "base_uri": "https://localhost:8080/"
        },
        "outputId": "bd7f6cec-2248-4f3f-e75f-711db9b0a348"
      },
      "execution_count": 27,
      "outputs": [
        {
          "output_type": "stream",
          "name": "stdout",
          "text": [
            "Classification Report:\n",
            "              precision    recall  f1-score   support\n",
            "\n",
            "           0       0.80      0.83      0.81       625\n",
            "           1       0.83      0.80      0.81       642\n",
            "\n",
            "    accuracy                           0.81      1267\n",
            "   macro avg       0.81      0.81      0.81      1267\n",
            "weighted avg       0.81      0.81      0.81      1267\n",
            "\n",
            "\n",
            "Actual vs Predicted:\n",
            "      Actual  Predicted\n",
            "227        1          1\n",
            "3436       1          1\n",
            "6150       1          0\n",
            "548        0          0\n",
            "5121       0          0\n"
          ]
        }
      ]
    },
    {
      "cell_type": "markdown",
      "source": [
        "•\t**Task 7:** Calculate the confusion matrix for your model. Interpret it in detail in the report."
      ],
      "metadata": {
        "id": "IyzumDR6pFBe"
      }
    },
    {
      "cell_type": "code",
      "source": [
        "# write task-7 solution\n",
        "\n",
        "# start writing your code here\n",
        "\n",
        "# Calculate the confusion matrix\n",
        "cm = metrics.confusion_matrix(y_test, y_pred)\n",
        "\n",
        "# Display the confusion matrix\n",
        "cm_display = metrics.ConfusionMatrixDisplay(confusion_matrix=cm, display_labels=y_test.unique())\n",
        "cm_display.plot()\n",
        "plt.show()"
      ],
      "metadata": {
        "id": "cFGx6ugvpEtz",
        "colab": {
          "base_uri": "https://localhost:8080/",
          "height": 449
        },
        "outputId": "17d121bd-d633-4942-8918-8a28eaeaf7c3"
      },
      "execution_count": 28,
      "outputs": [
        {
          "output_type": "display_data",
          "data": {
            "text/plain": [
              "<Figure size 640x480 with 2 Axes>"
            ],
            "image/png": "[encoded data removed]"
          },
          "metadata": {}
        }
      ]
    },
    {
      "cell_type": "markdown",
      "source": [
        "•\t**Taks 8:** Calculate the train and test accuracy of your model and compare them."
      ],
      "metadata": {
        "id": "xwL1AMavplXR"
      }
    },
    {
      "cell_type": "code",
      "source": [
        "# write task-8 solution\n",
        "\n",
        "# start writing your code here\n",
        "\n",
        "from sklearn.metrics import accuracy_score\n",
        "\n",
        "# Calculate and print training and testing accuracy\n",
        "train_accuracy = accuracy_score(y_train, svm_classifier.predict(X_train))\n",
        "test_accuracy = accuracy_score(y_test, y_pred)\n",
        "\n",
        "print(f\"Training Accuracy: {train_accuracy * 100:.2f}%\")\n",
        "print(f\"Testing Accuracy: {test_accuracy * 100:.2f}%\")\n",
        "\n",
        "# Compare train and test accuracy\n",
        "if train_accuracy > test_accuracy:\n",
        "    print(\"The model might be overfitting.\")\n",
        "elif train_accuracy < test_accuracy:\n",
        "    print(\"The model might be underfitting.\")\n",
        "else:\n",
        "    print(\"The model has consistent performance.\")\n"
      ],
      "metadata": {
        "id": "lzf35nbXpl15",
        "colab": {
          "base_uri": "https://localhost:8080/"
        },
        "outputId": "c978e2e7-48a5-4b67-f84c-eb6cbb9bd780"
      },
      "execution_count": 29,
      "outputs": [
        {
          "output_type": "stream",
          "name": "stdout",
          "text": [
            "Training Accuracy: 93.96%\n",
            "Testing Accuracy: 81.14%\n",
            "The model might be overfitting.\n"
          ]
        }
      ]
    }
  ],
  "metadata": {
    "colab": {
      "provenance": []
    },
    "kernelspec": {
      "display_name": "Python 3",
      "name": "python3"
    },
    "language_info": {
      "name": "python"
    }
  },
  "nbformat": 4,
  "nbformat_minor": 0
}